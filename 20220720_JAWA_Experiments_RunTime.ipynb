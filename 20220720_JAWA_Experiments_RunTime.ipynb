{
 "cells": [
  {
   "cell_type": "code",
   "execution_count": 1,
   "metadata": {},
   "outputs": [
    {
     "name": "stderr",
     "output_type": "stream",
     "text": [
      "INFO:numexpr.utils:Note: NumExpr detected 16 cores but \"NUMEXPR_MAX_THREADS\" not set, so enforcing safe limit of 8.\n",
      "INFO:numexpr.utils:NumExpr defaulting to 8 threads.\n"
     ]
    }
   ],
   "source": [
    "## Dependencies from RUE\n",
    "%matplotlib inline\n",
    "\n",
    "import imp\n",
    "import logging\n",
    "imp.reload(logging)\n",
    "logging.basicConfig(level=logging.INFO)\n",
    "\n",
    "from functools import partial\n",
    "\n",
    "import autograd\n",
    "import autograd.numpy as np\n",
    "import matplotlib.pyplot as plt\n",
    "import pystan\n",
    "import seaborn as sns\n",
    "\n",
    "from scipy.optimize import minimize\n",
    "\n",
    "from RUE_code import bayesnn\n",
    "\n",
    "## Added by Drew\n",
    "import pandas as pd\n",
    "from sklearn.preprocessing import StandardScaler\n",
    "# import numpy as np ## Later ideally convert everything to jnp ?\n",
    "import scipy\n",
    "import math\n",
    "from tqdm import tqdm\n",
    "from datetime import datetime\n",
    "from datetime import date\n",
    "from random import sample\n",
    "from JAW_utils import *\n",
    "\n",
    "# from autograd import make_jvp\n",
    "\n",
    "# import sys\n",
    "# print(sys.getrecursionlimit())\n"
   ]
  },
  {
   "cell_type": "code",
   "execution_count": 2,
   "metadata": {},
   "outputs": [],
   "source": [
    "class InputNormalizer:\n",
    "    def __init__(self, inputs):\n",
    "        n = len(inputs)\n",
    "        self.mean = np.mean(inputs, axis=0)\n",
    "        _, s, V_T = np.linalg.svd(inputs - self.mean, full_matrices=False)\n",
    "        self.rotation = V_T.T / s * np.sqrt(n - 1)\n",
    "\n",
    "    def normalize(self, inputs):\n",
    "        return np.dot(inputs - self.mean, self.rotation)\n",
    "\n",
    "\n",
    "class TargetNormalizer:\n",
    "    def __init__(self, targets):\n",
    "        self.mean = np.mean(targets)\n",
    "        self.scale = np.std(targets)\n",
    "\n",
    "    def normalize(self, targets):\n",
    "        return (targets - self.mean) / self.scale\n",
    "\n",
    "    def reverse(self, normalized):\n",
    "        return self.mean + self.scale * normalized"
   ]
  },
  {
   "cell_type": "code",
   "execution_count": 3,
   "metadata": {},
   "outputs": [],
   "source": [
    "'''\n",
    "Function : Gradient function G(*, omega) as in Algorithm 2 (Giordano et al. 2019)\n",
    "\n",
    "Parameters: \n",
    "- likel(params, X, y, weights) := (Log) likelihood function for all the data (returns scalar value)\n",
    "- params                       := Theta parameters\n",
    "- X                            := Training data covariates\n",
    "- y                            := Training data labels\n",
    "- weights                      := Weight values at which to evaluate gradient\n",
    "- omega                        := Omega indicator of whether to take directional derivative with respect to weights\n",
    "- delta_w                      := Direction of weights (change in weights) along which to evaluate directional derivative, if applicable\n",
    "\n",
    "Output:\n",
    "- GG(*, omega) \\in \\mathbb{R}^D := Gradient of the likelihood loss with respect to theta parameters, evaluated at weights\n",
    "'''\n",
    "def get_gradient_func(loss, X, y, weights, omega):\n",
    "    ## Compute derivative with respect to parameters\n",
    "    if (omega == 0):\n",
    "        def gradient_func(theta_0):\n",
    "            return autograd.grad(loss, 0)(theta_0, X, y, np.ones(len(weights))) ## Note: The 0 argument not necessary, reminds that gradient wrt params\n",
    "        \n",
    "    \n",
    "    ## Else omega == 1: Compute directional derivative with respect to weights in direction of (weights - np.ones(len(weights)))\n",
    "    ## See bottom of pg 4 in Giordano et al. 2019 for why can implement as follows\n",
    "    else:\n",
    "        def gradient_func(theta_0):\n",
    "            return autograd.grad(loss, 0)(theta_0, X, y, weights) - autograd.grad(loss, 0)(theta_0, X, y, np.ones(len(weights)))\n",
    "\n",
    "    return gradient_func \n",
    "    \n",
    "\n",
    "'''\n",
    "Algorithm 1 in Giordano et al. 2019 : Forward-mode automatic differentiation\n",
    "\n",
    "Parameters: \n",
    "- f() : \\mathbb{R}^D -> \\mathbb{R}^D := (Gradient) function to differentiate\n",
    "- v \\in \\mathbb{R}^D                 := Direction along which to evlauate directional derivative / project derivative\n",
    "\n",
    "Output:\n",
    "- \\partial{f(\\theta)} / \\partial{\\theta} |_{\\theta_o} v := Directional derivative of f with respect to \\theta\n",
    "   evaluated at \\theta_0 in the direction of v (projected onto v)\n",
    "'''\n",
    "\n",
    "def ForwardModeAD(f, v):\n",
    "    def FMAD_func(theta_0):\n",
    "        return autograd.make_jvp(f)(theta_0)(v)[1]\n",
    "    \n",
    "    return FMAD_func\n",
    "\n",
    "    \n",
    "'''\n",
    "Algorithm 2 in Giordano et al. 2019 : Evaluate \\tau(\\mathbb{K}, \\omega, w)\n",
    "\n",
    "Parameters (See Definition 2):\n",
    "- \\mathbb{K} := Size |\\mathbb{K}| (possibly empty) set of positive integers\n",
    "- \\omega     := Indicator of whether to take directional derivative with respect to w\n",
    "- \\Theta_{max_{k \\in \\mathbb{K}}(k)} := Set of directional derivatives of \\hat{\\theta(w)} order less than or equal to k\n",
    "                                        Organized so that index \n",
    "- w          := Location (in the space of data weights) where the derivative is evaluated\n",
    "\n",
    "Output:\n",
    "- \n",
    "'''\n",
    "def EvaluateTerm(K, omega, Theta_k, theta_hat, loss, X, y, weights):\n",
    "#     print(\"theta_hat len : \", len(theta_hat))\n",
    "#     if (len(Theta_k) > 0):\n",
    "#         print(\"Theta_k[0] len = \", len(Theta_k[0]))\n",
    "    f = get_gradient_func(loss, X, y, weights, omega)\n",
    "        \n",
    "    for k in K:\n",
    "        f = ForwardModeAD(f, Theta_k[k-1])\n",
    "        \n",
    "    return f(theta_hat)\n",
    "\n",
    "'''\n",
    "Algorithm 3 in Giordano et al. 2019 : Evaluate \\delta_w^k\\hat{\\theta}(w)\n",
    "\n",
    "'''\n",
    "def EvaluateDTheta(k, theta_hat, H_inv, Tau_k, Theta_k_minus_1, loss, X, y, weights):\n",
    "    d = np.zeros(len(theta_hat))\n",
    "    \n",
    "    for triple in Tau_k:\n",
    "        a_i = triple[0]\n",
    "        K_i = triple[1]\n",
    "        omega_i = triple[2]\n",
    "        d = d + a_i * EvaluateTerm(K_i, omega_i, Theta_k_minus_1, theta_hat, loss, X, y, weights)\n",
    "    return - H_inv @ d\n",
    "\n",
    "\n",
    "'''\n",
    "Algorithm 4 in Giordano et al. 2019 : Evaluate \\hat{\\theta}_{k_{IJ}}^{IJ}(w)\n",
    "\n",
    "'''\n",
    "def EvaluateThetaIJ(k_IJ, theta_hat, H_inv, loss, X, y, weights):\n",
    "    if (k_IJ == 1):\n",
    "        Tau_star = [[[1, [], 1]]]\n",
    "    elif (k_IJ == 2):\n",
    "        Tau_star = [[[1, [], 1]],\n",
    "                    [[1, [1, 1], 0], [2, [1], 1]]]\n",
    "    elif (k_IJ == 3):\n",
    "        Tau_star = [[[1, [], 1]],\n",
    "                     [[1, [1, 1], 0], [2, [1], 1]],\n",
    "                     [[3, [1, 2], 0], [3, [2], 1], [3, [1, 1], 1], [1, [1, 1, 1], 0]]]\n",
    "    else:\n",
    "        raise Exception(\"EvaluateThetaIJ currently only built for order k_IJ \\in [1, 2, 3]\")\n",
    "        \n",
    "    Theta_k = []\n",
    "    t = theta_hat\n",
    "    for k in range(1, k_IJ + 1):\n",
    "        Tau_k = Tau_star[k-1]\n",
    "        partial_w_k_theta = EvaluateDTheta(k, theta_hat, H_inv, Tau_k, Theta_k, loss, X, y, weights)\n",
    "        Theta_k.append(partial_w_k_theta)\n",
    "        t = t + (1 / math.factorial(k))*partial_w_k_theta\n",
    "    return t\n"
   ]
  },
  {
   "cell_type": "code",
   "execution_count": 4,
   "metadata": {},
   "outputs": [
    {
     "name": "stdout",
     "output_type": "stream",
     "text": [
      "X_airfoil shape :  (1503, 5)\n",
      "X_wine shape :  (1599, 11)\n",
      "X_wave shape :  (2000, 48)\n",
      "X_superconduct shape :  (2000, 81)\n",
      "X_communities shape :  (1994, 99)\n"
     ]
    }
   ],
   "source": [
    "## Load datasets\n",
    "\n",
    "airfoil = pd.read_csv('./Datasets/airfoil/airfoil.txt', sep = '\\t', header=None)\n",
    "airfoil.columns = [\"Frequency\",\"Angle\",\"Chord\",\"Velocity\",\"Suction\",\"Sound\"]\n",
    "X_airfoil = airfoil.iloc[:, 0:5].values\n",
    "X_airfoil[:, 0] = np.log(X_airfoil[:, 0])\n",
    "X_airfoil[:, 4] = np.log(X_airfoil[:, 4])\n",
    "Y_airfoil = airfoil.iloc[:, 5].values\n",
    "n_airfoil = len(Y_airfoil)\n",
    "print(\"X_airfoil shape : \", X_airfoil.shape)\n",
    "        \n",
    "winequality_red = pd.read_csv('./Datasets/wine/winequality-red.csv', sep=';')\n",
    "X_wine = winequality_red.iloc[:, 0:11].values\n",
    "Y_wine = winequality_red.iloc[:, 11].values\n",
    "n_wine = len(Y_wine)\n",
    "print(\"X_wine shape : \", X_wine.shape)\n",
    "        \n",
    "wave = pd.read_csv('./Datasets/wave/Adelaide_Data.csv', header = None)\n",
    "# wave_ids = sample(range(0, len(wave)),2000)\n",
    "# X_wave = wave.iloc[wave_ids, 0:48].values\n",
    "# Y_wave = wave.iloc[wave_ids, 48].values\n",
    "X_wave = wave.iloc[0:2000, 0:48].values\n",
    "Y_wave = wave.iloc[0:2000, 48].values\n",
    "n_wave = len(Y_wave)\n",
    "print(\"X_wave shape : \", X_wave.shape)\n",
    "        \n",
    "superconduct = pd.read_csv('./Datasets/superconduct/train.csv')\n",
    "# superconduct_ids = sample(range(0, len(superconduct)),2000)\n",
    "# X_superconduct = superconduct.iloc[superconduct_ids, 0:81].values\n",
    "# Y_superconduct = superconduct.iloc[superconduct_ids, 81].values\n",
    "X_superconduct = superconduct.iloc[0:2000, 0:81].values\n",
    "Y_superconduct = superconduct.iloc[0:2000, 81].values\n",
    "n_superconduct = len(Y_superconduct)\n",
    "print(\"X_superconduct shape : \", X_superconduct.shape)\n",
    "        \n",
    "# UCI Communities and Crime Data Set\n",
    "# download from:\n",
    "# http://archive.ics.uci.edu/ml/datasets/communities+and+crime\n",
    "communities_data = np.loadtxt('./Datasets/communities/communities.data',delimiter=',',dtype=str)\n",
    "# remove categorical predictors\n",
    "communities_data = np.delete(communities_data,np.arange(5),1)\n",
    "# remove predictors with missing values\n",
    "communities_data = np.delete(communities_data,\\\n",
    "            np.argwhere((communities_data=='?').sum(0)>0).reshape(-1),1)\n",
    "communities_data = communities_data.astype(float)\n",
    "X_communities = communities_data[:,:-1]\n",
    "Y_communities = communities_data[:,-1]\n",
    "n_communities = len(Y_communities)\n",
    "print(\"X_communities shape : \", X_communities.shape)"
   ]
  },
  {
   "cell_type": "code",
   "execution_count": 13,
   "metadata": {},
   "outputs": [],
   "source": [
    "    ## Select dataset\n",
    "    # dataset = 'airfoil'\n",
    "\n",
    "def load_dataset(dataset):\n",
    "        n = 200\n",
    "        train_inds = np.random.choice(eval('n_'+dataset),n,replace=False)\n",
    "        # train_inds = list(range(0, n))\n",
    "        test_inds = np.setdiff1d(np.arange(eval('n_'+dataset)),train_inds)\n",
    "\n",
    "        print(\"train_inds[0:10] : \", train_inds[0:10])\n",
    "        print(\"test_inds[0:10] : \", test_inds[0:10])\n",
    "\n",
    "        X = eval('X_'+dataset)[train_inds]\n",
    "        Y = eval('Y_'+dataset)[train_inds]\n",
    "        X1 = eval('X_'+dataset)[test_inds]\n",
    "        Y1 = eval('Y_'+dataset)[test_inds]\n",
    "\n",
    "        ## Normalize data\n",
    "        norm_X = InputNormalizer(X)\n",
    "        norm_y = TargetNormalizer(Y)\n",
    "\n",
    "        X = norm_X.normalize(X)\n",
    "        Y = norm_y.normalize(Y)\n",
    "\n",
    "        X1 = norm_X.normalize(X1)\n",
    "        Y1 = norm_y.normalize(Y1)\n",
    "\n",
    "        return X, Y, X1, Y1\n"
   ]
  },
  {
   "cell_type": "markdown",
   "metadata": {},
   "source": [
    "## Run IF experiments"
   ]
  },
  {
   "cell_type": "code",
   "execution_count": 21,
   "metadata": {
    "scrolled": false
   },
   "outputs": [
    {
     "name": "stdout",
     "output_type": "stream",
     "text": [
      "RandomState(MT19937)\n",
      "\n",
      "Time beginning :  2022-07-21 03:33:02.385043\n",
      "train_inds[0:10] :  [ 640   75  154 1247 1025   32  604  968  624  227]\n",
      "test_inds[0:10] :  [ 0  1  2  3  4  5  7  8  9 10]\n",
      "\n",
      " DATASET :  airfoil\n",
      "\n",
      "Beginning retraining for airfoil:  2022-07-21 03:33:02.387628\n"
     ]
    },
    {
     "name": "stderr",
     "output_type": "stream",
     "text": [
      "100%|█████████████████████████████████████████| 200/200 [58:39<00:00, 17.60s/it]\n"
     ]
    },
    {
     "name": "stdout",
     "output_type": "stream",
     "text": [
      "\n",
      "Ending retraining for airfoil:  2022-07-21 04:31:42.263123\n",
      "train_inds[0:10] :  [  29 1202 1008  328  808  220  770  776  250 1325]\n",
      "test_inds[0:10] :  [0 1 2 3 4 5 6 7 8 9]\n",
      "\n",
      " DATASET :  wine\n",
      "\n",
      "Beginning retraining for wine:  2022-07-21 04:31:42.266604\n"
     ]
    },
    {
     "name": "stderr",
     "output_type": "stream",
     "text": [
      "100%|█████████████████████████████████████████| 200/200 [57:35<00:00, 17.28s/it]\n"
     ]
    },
    {
     "name": "stdout",
     "output_type": "stream",
     "text": [
      "\n",
      "Ending retraining for wine:  2022-07-21 05:29:17.982011\n",
      "train_inds[0:10] :  [ 682 1579 1195 1825  901  259 1617  232 1679  470]\n",
      "test_inds[0:10] :  [0 1 2 3 4 5 6 7 8 9]\n",
      "\n",
      " DATASET :  wave\n",
      "\n",
      "Beginning retraining for wave:  2022-07-21 05:29:17.986075\n"
     ]
    },
    {
     "name": "stderr",
     "output_type": "stream",
     "text": [
      "100%|███████████████████████████████████████| 200/200 [1:11:54<00:00, 21.57s/it]\n"
     ]
    },
    {
     "name": "stdout",
     "output_type": "stream",
     "text": [
      "\n",
      "Ending retraining for wave:  2022-07-21 06:41:12.267468\n",
      "train_inds[0:10] :  [ 384  844  764 1266  920 1444   26 1194  263  344]\n",
      "test_inds[0:10] :  [0 1 2 3 4 5 6 7 8 9]\n",
      "\n",
      " DATASET :  superconduct\n",
      "\n",
      "Beginning retraining for superconduct:  2022-07-21 06:41:12.272935\n"
     ]
    },
    {
     "name": "stderr",
     "output_type": "stream",
     "text": [
      "100%|███████████████████████████████████████| 200/200 [1:17:15<00:00, 23.18s/it]\n"
     ]
    },
    {
     "name": "stdout",
     "output_type": "stream",
     "text": [
      "\n",
      "Ending retraining for superconduct:  2022-07-21 07:58:27.386353\n",
      "train_inds[0:10] :  [1440  561 1231 1194 1421  664  217 1900 1120 1837]\n",
      "test_inds[0:10] :  [0 1 2 3 4 5 6 7 8 9]\n",
      "\n",
      " DATASET :  communities\n",
      "\n",
      "Beginning retraining for communities:  2022-07-21 07:58:27.393949\n"
     ]
    },
    {
     "name": "stderr",
     "output_type": "stream",
     "text": [
      "100%|███████████████████████████████████████| 200/200 [1:20:42<00:00, 24.21s/it]"
     ]
    },
    {
     "name": "stdout",
     "output_type": "stream",
     "text": [
      "\n",
      "Ending retraining for communities:  2022-07-21 09:19:09.535821\n",
      "\n",
      "Time of completion :  2022-07-21 09:19:09.535976\n"
     ]
    },
    {
     "name": "stderr",
     "output_type": "stream",
     "text": [
      "\n"
     ]
    }
   ],
   "source": [
    "## Trying now with Hessian having 10.0 as dampening\n",
    "print(np.random.RandomState(12345))\n",
    "ntrial = 1\n",
    "alpha = 0.1\n",
    "damp = 0.0 ## default dampening\n",
    "method_names = ['IF1-jackknife', 'IF1-jackknife-mm', 'IF1-jackknife+', 'IF1-JAWA', \n",
    "                'IF2-jackknife', 'IF2-jackknife-mm', 'IF2-jackknife+', 'IF2-JAWA',\n",
    "                'IF3-jackknife', 'IF3-jackknife-mm', 'IF3-jackknife+', 'IF3-JAWA']\n",
    "\n",
    "print(\"\\nTime beginning : \", datetime.now())\n",
    "\n",
    "for dataset in ['airfoil', 'wine', 'wave', 'superconduct', 'communities']: #'airfoil', 'wave', , 'communities'\n",
    "    \n",
    "    X2_train, y2_train, X2_test, y2_test = load_dataset(dataset)\n",
    "    print(\"\\n DATASET : \", dataset)\n",
    "\n",
    "    if (dataset == 'airfoil'):\n",
    "        bias = 0.85\n",
    "        L2_lambda = 1\n",
    "    elif (dataset == 'wine'):\n",
    "        bias = 0.53\n",
    "        L2_lambda = 8\n",
    "    elif (dataset == 'wave'):\n",
    "        bias = 0.0000925\n",
    "        L2_lambda = 4\n",
    "    elif (dataset in ['superconduct']):\n",
    "        bias = 0.00062\n",
    "        L2_lambda = 96\n",
    "    elif (dataset == 'communities'):\n",
    "        bias = 0.825\n",
    "        L2_lambda = 64\n",
    "        \n",
    "    rng = np.random.RandomState(0) ## Generate random state with seed=0\n",
    "\n",
    "    n_train, n_inputs = X2_train.shape\n",
    "    n_hidden = 25\n",
    "\n",
    "    alphas = [1.0, 1.0]\n",
    "    beta = 1.0\n",
    "    \n",
    "    print(\"\\nBeginning retraining for \" + str(dataset) + \": \", datetime.now())\n",
    "    for i in tqdm(range(0, n_train)):\n",
    "\n",
    "\n",
    "\n",
    "        ############# Full model\n",
    "\n",
    "        model = bayesnn.MLP(n_inputs, n_hidden)\n",
    "        init_params = model.init_params(rng)\n",
    "\n",
    "        weights = np.ones(n_train)\n",
    "        weights[i] = 0\n",
    "\n",
    "        objective, likelihood, prior, likelihood_all = bayesnn.make_objective(model, alphas, beta, n_train, weights)\n",
    "\n",
    "        config = bayesnn.init_sgd_config()\n",
    "        config['n_epochs'] = 2000\n",
    "        config['batch_size'] = 50\n",
    "\n",
    "        params = bayesnn.train(objective, init_params, X2_train, y2_train, config, weights)\n",
    "        y_hat_full = model.predict(params, X2_test)\n",
    "    \n",
    "    print(\"\\nEnding retraining for \" + str(dataset) + \": \", datetime.now())\n",
    "    \n",
    "\n",
    "    \n",
    "#     rng = np.random.RandomState(0) ## Generate random state with seed=0\n",
    "\n",
    "#     n_train, n_inputs = X2_train.shape\n",
    "#     n_hidden = 25\n",
    "\n",
    "#     alphas = [1.0, 1.0]\n",
    "#     beta = 1.0\n",
    "\n",
    "#     ############# Full model\n",
    "\n",
    "#     model = bayesnn.MLP(n_inputs, n_hidden)\n",
    "#     init_params = model.init_params(rng)\n",
    "\n",
    "#     weights = np.ones(n_train)\n",
    "\n",
    "#     objective, likelihood, prior, likelihood_all = bayesnn.make_objective(model, alphas, beta, n_train, weights)\n",
    "\n",
    "#     config = bayesnn.init_sgd_config()\n",
    "#     config['n_epochs'] = 2000\n",
    "#     config['batch_size'] = 50\n",
    "\n",
    "#     params = bayesnn.train(objective, init_params, X2_train, y2_train, config, weights)\n",
    "#     y_hat_full = model.predict(params, X2_test)\n",
    "\n",
    "#     print(\"\\nBeginning IFs for \" + str(dataset) + \": \", datetime.now())\n",
    "\n",
    "#     ## Hessian\n",
    "#     damp = 0.0\n",
    "#     H = autograd.hessian(likelihood_all, 0)(params, X2_train, y2_train, weights)\n",
    "#     H = H + damp * np.eye(len(H))\n",
    "#     H_inv = np.linalg.inv(H)\n",
    "\n",
    "\n",
    "#     for i in tqdm(range(0, n_train)):\n",
    "#         weights = np.ones(n_train)\n",
    "#         weights[i] = 0\n",
    "\n",
    "        ############# IF approximations\n",
    "\n",
    "#         ## 1st-order IF\n",
    "#         params_IFs_1 = EvaluateThetaIJ(1, params, H_inv, likelihood_all, X2_train, y2_train, weights)\n",
    "#         y_hat_IFs_1 = model.predict(params_IFs_1, X2_test)\n",
    "\n",
    "#         ## 2nd-order IF\n",
    "#         params_IFs_2 = EvaluateThetaIJ(2, params, H_inv, likelihood_all, X2_train, y2_train, weights)\n",
    "#         y_hat_IFs_2 = model.predict(params_IFs_d2, X2_test)\n",
    "\n",
    "#         ## 3rd-order IF\n",
    "#         params_IFs_3 = EvaluateThetaIJ(3, params, H_inv, likelihood_all, X2_train, y2_train, weights)\n",
    "#         y_hat_IFs_3 = model.predict(params_IFs_3, X2_test)\n",
    "\n",
    "    \n",
    "#     print(\"\\nEnding IFs for \" + str(dataset) + \": \", datetime.now())\n",
    "\n",
    "\n",
    "print(\"\\nTime of completion : \", datetime.now())"
   ]
  },
  {
   "cell_type": "code",
   "execution_count": null,
   "metadata": {},
   "outputs": [],
   "source": [
    "np.random.sample()"
   ]
  },
  {
   "cell_type": "code",
   "execution_count": 12,
   "metadata": {},
   "outputs": [
    {
     "data": {
      "text/plain": [
       "array([1, 5])"
      ]
     },
     "execution_count": 12,
     "metadata": {},
     "output_type": "execute_result"
    }
   ],
   "source": [
    "# max_damp_limit = 100\n",
    "# np.linspace(0, max_damp_limit, 10*max_damp_limit)\n",
    "seq = np.array([1, 2, 3, 4, 5])\n",
    "seq = np.array(random.sample(list(seq), 2))\n",
    "seq"
   ]
  },
  {
   "cell_type": "markdown",
   "metadata": {},
   "source": [
    "## Plotting JAWA results\n"
   ]
  },
  {
   "cell_type": "code",
   "execution_count": 17,
   "metadata": {},
   "outputs": [
    {
     "data": {
      "image/png": "[encoded data removed]",
      "text/plain": [
       "<Figure size 288x288 with 1 Axes>"
      ]
     },
     "metadata": {
      "needs_background": "light"
     },
     "output_type": "display_data"
    },
    {
     "data": {
      "image/png": "[encoded data removed]",
      "text/plain": [
       "<Figure size 288x288 with 1 Axes>"
      ]
     },
     "metadata": {
      "needs_background": "light"
     },
     "output_type": "display_data"
    },
    {
     "data": {
      "image/png": "[encoded data removed]",
      "text/plain": [
       "<Figure size 288x288 with 1 Axes>"
      ]
     },
     "metadata": {
      "needs_background": "light"
     },
     "output_type": "display_data"
    },
    {
     "data": {
      "image/png": "[encoded data removed]",
      "text/plain": [
       "<Figure size 288x288 with 1 Axes>"
      ]
     },
     "metadata": {
      "needs_background": "light"
     },
     "output_type": "display_data"
    },
    {
     "data": {
      "image/png": "[encoded data removed]",
      "text/plain": [
       "<Figure size 288x288 with 1 Axes>"
      ]
     },
     "metadata": {
      "needs_background": "light"
     },
     "output_type": "display_data"
    }
   ],
   "source": [
    "import pandas as pd\n",
    "import matplotlib.pyplot as plt\n",
    "\n",
    "orders = [1, 2, 3] ## IF orders in ascending order\n",
    "\n",
    "results_airfoil_IFs = pd.read_csv('./Results/2022-07-14_IFs_airfoil_0.75Bias_100Trials.csv')\n",
    "results_wine_IFs = pd.read_csv('./Results/2022-07-14_IFs_wine_0.4Bias_100Trials.csv')\n",
    "results_wave_IFs = pd.read_csv('./Results/2022-07-14_IFs_wave_5e-05Bias_100Trials.csv')\n",
    "results_superconduct_IFs = pd.read_csv('./Results/2022-07-14_IFs_superconduct_0.0003Bias_100Trials.csv')\n",
    "results_communities_IFs = pd.read_csv('./Results/2022-07-14_IFs_communities_0.75Bias_100Trials.csv')\n",
    "\n",
    "results_all = [results_airfoil_IFs, results_wine_IFs, results_wave_IFs, results_superconduct_IFs, results_communities_IFs]\n",
    "dataset_names = ['airfoil', 'wine', 'wave', 'superconduct', 'communities']\n",
    "\n",
    "for results_df in results_all:\n",
    "    IF_method_names_all = []\n",
    "    for o in orders:\n",
    "        IF_method_names_all.append(['IF'+str(o)+'-JAWA', 'IF'+str(o)+'-jackknife+', 'IF'+str(o)+'-jackknife', 'IF'+str(o)+'-jackknife-mm'])\n",
    "\n",
    "    coverages_all = []\n",
    "    widths_all = []\n",
    "    inverse_widths_all = []\n",
    "    for method_names_order in IF_method_names_all:\n",
    "        coverages_order = []\n",
    "        widths_order = []\n",
    "        inverse_widths_order = []\n",
    "        for method_name in method_names_order:\n",
    "            coverages_order.append(results_df[results_df['method']==method_name]['coverage'].mean())\n",
    "            widths_order.append(results_df[results_df['method']==method_name]['width'].median())\n",
    "            inverse_widths_order.append(1/results_df[results_df['method']==method_name]['width'].median())\n",
    "        coverages_all.append(coverages_order)\n",
    "        widths_all.append(widths_order)\n",
    "        inverse_widths_all.append(inverse_widths_order)\n",
    "\n",
    "    ## Plot data\n",
    "    markers = [\"o\", \"X\", \"^\"]\n",
    "    colors = ['C0', 'C1', 'C2', 'C3']\n",
    "    plt.figure(figsize=(4,4))\n",
    "    for i in range(0, len(orders)):\n",
    "        \n",
    "        for j in range(0, 4):\n",
    "#             plt.scatter(inverse_widths_all[i][j], coverages_all[i][j], marker=markers[i], color = colors[j], s=100, edgecolors='black')\n",
    "            plt.scatter(widths_all[i][j], coverages_all[i][j], marker=markers[i], color = colors[j], s=100, edgecolors='black')\n",
    "\n",
    "    plt.xlabel(\"Median interval width\")\n",
    "    plt.ylabel(\"Mean coverage\")\n",
    "    plt.axhline(0.9,linestyle='dotted',color='black')\n",
    "    plt.axhline(0.8,linestyle='dotted',color='gray')\n",
    "    plt.ylim([0, 1])\n",
    "    plt.show()\n"
   ]
  },
  {
   "cell_type": "markdown",
   "metadata": {},
   "source": [
    "## Plotting JAW results"
   ]
  },
  {
   "cell_type": "code",
   "execution_count": 18,
   "metadata": {},
   "outputs": [
    {
     "data": {
      "text/plain": [
       "{'CV+', 'JAW', 'jackknife', 'jackknife+', 'jackknife-mm', 'naive', 'split'}"
      ]
     },
     "execution_count": 18,
     "metadata": {},
     "output_type": "execute_result"
    }
   ],
   "source": [
    "results_airfoil_NN_IFs = pd.read_csv('./Results/airfoil_NN_1.0Bias_200Trials.csv')\n",
    "set(results_airfoil_NN_IFs['method'])"
   ]
  },
  {
   "cell_type": "code",
   "execution_count": 25,
   "metadata": {},
   "outputs": [
    {
     "name": "stderr",
     "output_type": "stream",
     "text": [
      "WARNING:matplotlib.legend:No handles with labels found to put in legend.\n"
     ]
    },
    {
     "data": {
      "image/png": "[encoded data removed]",
      "text/plain": [
       "<Figure size 288x288 with 1 Axes>"
      ]
     },
     "metadata": {
      "needs_background": "light"
     },
     "output_type": "display_data"
    },
    {
     "name": "stderr",
     "output_type": "stream",
     "text": [
      "WARNING:matplotlib.legend:No handles with labels found to put in legend.\n"
     ]
    },
    {
     "data": {
      "image/png": "[encoded data removed]",
      "text/plain": [
       "<Figure size 288x288 with 1 Axes>"
      ]
     },
     "metadata": {
      "needs_background": "light"
     },
     "output_type": "display_data"
    },
    {
     "name": "stderr",
     "output_type": "stream",
     "text": [
      "WARNING:matplotlib.legend:No handles with labels found to put in legend.\n"
     ]
    },
    {
     "data": {
      "image/png": "[encoded data removed]",
      "text/plain": [
       "<Figure size 288x288 with 1 Axes>"
      ]
     },
     "metadata": {
      "needs_background": "light"
     },
     "output_type": "display_data"
    },
    {
     "name": "stderr",
     "output_type": "stream",
     "text": [
      "WARNING:matplotlib.legend:No handles with labels found to put in legend.\n"
     ]
    },
    {
     "data": {
      "image/png": "[encoded data removed]",
      "text/plain": [
       "<Figure size 288x288 with 1 Axes>"
      ]
     },
     "metadata": {
      "needs_background": "light"
     },
     "output_type": "display_data"
    },
    {
     "name": "stderr",
     "output_type": "stream",
     "text": [
      "WARNING:matplotlib.legend:No handles with labels found to put in legend.\n"
     ]
    },
    {
     "data": {
      "image/png": "[encoded data removed]",
      "text/plain": [
       "<Figure size 288x288 with 1 Axes>"
      ]
     },
     "metadata": {
      "needs_background": "light"
     },
     "output_type": "display_data"
    },
    {
     "name": "stderr",
     "output_type": "stream",
     "text": [
      "WARNING:matplotlib.legend:No handles with labels found to put in legend.\n"
     ]
    },
    {
     "data": {
      "image/png": "[encoded data removed]",
      "text/plain": [
       "<Figure size 288x288 with 1 Axes>"
      ]
     },
     "metadata": {
      "needs_background": "light"
     },
     "output_type": "display_data"
    },
    {
     "name": "stderr",
     "output_type": "stream",
     "text": [
      "WARNING:matplotlib.legend:No handles with labels found to put in legend.\n"
     ]
    },
    {
     "data": {
      "image/png": "[encoded data removed]",
      "text/plain": [
       "<Figure size 288x288 with 1 Axes>"
      ]
     },
     "metadata": {
      "needs_background": "light"
     },
     "output_type": "display_data"
    },
    {
     "name": "stderr",
     "output_type": "stream",
     "text": [
      "WARNING:matplotlib.legend:No handles with labels found to put in legend.\n"
     ]
    },
    {
     "data": {
      "image/png": "[encoded data removed]",
      "text/plain": [
       "<Figure size 288x288 with 1 Axes>"
      ]
     },
     "metadata": {
      "needs_background": "light"
     },
     "output_type": "display_data"
    },
    {
     "name": "stderr",
     "output_type": "stream",
     "text": [
      "WARNING:matplotlib.legend:No handles with labels found to put in legend.\n"
     ]
    },
    {
     "data": {
      "image/png": "[encoded data removed]",
      "text/plain": [
       "<Figure size 288x288 with 1 Axes>"
      ]
     },
     "metadata": {
      "needs_background": "light"
     },
     "output_type": "display_data"
    },
    {
     "name": "stderr",
     "output_type": "stream",
     "text": [
      "WARNING:matplotlib.legend:No handles with labels found to put in legend.\n"
     ]
    },
    {
     "data": {
      "image/png": "[encoded data removed]",
      "text/plain": [
       "<Figure size 288x288 with 1 Axes>"
      ]
     },
     "metadata": {
      "needs_background": "light"
     },
     "output_type": "display_data"
    }
   ],
   "source": [
    "import pandas as pd\n",
    "import matplotlib.pyplot as plt\n",
    "\n",
    "mu_fun_names = ['neural_net', 'random_forest'] ## IF orders in ascending order\n",
    "method_names = ['naive', 'jackknife', 'jackknife+', 'jackknife-mm',  'CV+', 'split', 'JAW']\n",
    "\n",
    "results_airfoil_NN_IFs = pd.read_csv('./Results/airfoil_NN_1.0Bias_200Trials.csv')\n",
    "results_wine_NN_IFs = pd.read_csv('./Results/wine_NN_0.65Bias_200Trials.csv')\n",
    "results_wave_NN_IFs = pd.read_csv('./Results/wave_NN_0.0003Bias_200Trials.csv')\n",
    "results_superconduct_NN_IFs = pd.read_csv('./Results/superconduct_NN_0.0006Bias_200Trials.csv')\n",
    "results_communities_NN_IFs = pd.read_csv('./Results/communities_NN_0.75Bias_200Trials.csv')\n",
    "\n",
    "results_airfoil_RF_IFs = pd.read_csv('./Results/airfoil_RF_1.0Bias_200Trials.csv')\n",
    "results_wine_RF_IFs = pd.read_csv('./Results/wine_RF_0.65Bias_200Trials.csv')\n",
    "results_wave_RF_IFs = pd.read_csv('./Results/wave_RF_0.0003Bias_200Trials.csv')\n",
    "results_superconduct_RF_IFs = pd.read_csv('./Results/superconduct_RF_0.0006Bias_200Trials.csv')\n",
    "results_communities_RF_IFs = pd.read_csv('./Results/communities_RF_0.75Bias_200Trials.csv')\n",
    "\n",
    "results_NN_all = [results_airfoil_NN_IFs, results_wine_NN_IFs, results_wave_NN_IFs, results_superconduct_NN_IFs, results_communities_NN_IFs]\n",
    "results_RF_all = [results_airfoil_RF_IFs, results_wine_RF_IFs, results_wave_RF_IFs, results_superconduct_RF_IFs, results_communities_RF_IFs]\n",
    "results_ALL = [results_NN_all, results_RF_all]\n",
    "\n",
    "dataset_names = ['airfoil', 'wine', 'wave', 'superconduct', 'communities']\n",
    "\n",
    "\n",
    "## NN\n",
    "for results_df_method in results_ALL:\n",
    "    for results_df in results_df_method:\n",
    "\n",
    "        coverages_all = []\n",
    "        widths_all = []\n",
    "        inverse_widths_all = []\n",
    "\n",
    "        for method_name in method_names:\n",
    "            coverages_all.append(results_df[results_df['method']==method_name]['coverage'].mean())\n",
    "            widths_all.append(results_df[results_df['method']==method_name]['width'].median())\n",
    "            inverse_widths_all.append(1/results_df[results_df['method']==method_name]['width'].median())\n",
    "\n",
    "\n",
    "        ## Plot data\n",
    "        colors = ['C0', 'C1', 'C2', 'C3', 'C4', 'C5', 'pink']\n",
    "        plt.figure(figsize=(4,4))\n",
    "\n",
    "        for j in range(0, len(method_names)):\n",
    "    #             plt.scatter(inverse_widths_all[i][j], coverages_all[i][j], marker=markers[i], color = colors[j], s=100, edgecolors='black')\n",
    "            plt.scatter(inverse_widths_all[j], coverages_all[j], marker='o', color = colors[j], s=100, edgecolors='black')\n",
    "\n",
    "        plt.xlabel(\"1/(Median interval width)\")\n",
    "        plt.ylabel(\"Mean coverage\")\n",
    "        plt.axhline(0.9,linestyle='dotted',color='black')\n",
    "        plt.axhline(0.8,linestyle='dotted',color='gray')\n",
    "        plt.ylim([0, 1])\n",
    "        plt.legend()\n",
    "        plt.show()\n"
   ]
  },
  {
   "cell_type": "code",
   "execution_count": null,
   "metadata": {},
   "outputs": [],
   "source": []
  }
 ],
 "metadata": {
  "kernelspec": {
   "display_name": "Python 3 (ipykernel)",
   "language": "python",
   "name": "python3"
  },
  "language_info": {
   "codemirror_mode": {
    "name": "ipython",
    "version": 3
   },
   "file_extension": ".py",
   "mimetype": "text/x-python",
   "name": "python",
   "nbconvert_exporter": "python",
   "pygments_lexer": "ipython3",
   "version": "3.9.7"
  }
 },
 "nbformat": 4,
 "nbformat_minor": 4
}
